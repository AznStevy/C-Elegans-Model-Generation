{
 "cells": [
  {
   "cell_type": "code",
   "execution_count": 5,
   "metadata": {
    "code_folding": [
     0
    ]
   },
   "outputs": [],
   "source": [
    "# handle imports\n",
    "import os\n",
    "import json\n",
    "import numpy as np\n",
    "import pandas as pd"
   ]
  },
  {
   "cell_type": "code",
   "execution_count": 6,
   "metadata": {},
   "outputs": [],
   "source": [
    "step = 1\n",
    "display_type = \"seam+annotations\" # seam+annotations\n",
    "model_name = '2020_09_09-Nerve_Ring'\n",
    "strain_target = None\n",
    "pos_target = None # strain name substring"
   ]
  },
  {
   "cell_type": "code",
   "execution_count": 7,
   "metadata": {
    "code_folding": [
     0
    ]
   },
   "outputs": [],
   "source": [
    "# get data\n",
    "folderpath = os.path.join(os.getcwd(), 'workspace', model_name)\n",
    "if step == 1:\n",
    "    filename = '1_compiled_data'\n",
    "elif step == 2:\n",
    "    filename = '2_compiled_data_no_outliers'\n",
    "elif step == 3:\n",
    "    filename = '3_compiled_data_interpolation'\n",
    "elif step == 5:\n",
    "    filename = '5_compiled_data_warped'\n",
    "elif step == 6:\n",
    "    filename = '6_cell_coord_stats_by_timepoint'\n",
    "elif step == 7:\n",
    "    filename = '7_cell_coord_stats_by_timepoint_smoothed'\n",
    "filepath = os.path.join(folderpath, filename + '.json')\n",
    "with open(filepath) as f:\n",
    "    data = json.load(f)"
   ]
  },
  {
   "cell_type": "code",
   "execution_count": 8,
   "metadata": {
    "code_folding": [
     0
    ]
   },
   "outputs": [],
   "source": [
    "# plot figure\n",
    "from plotly.subplots import make_subplots\n",
    "import plotly.graph_objects as go\n",
    "\n",
    "axes = ['x', 'y', 'z']\n",
    "\n",
    "\n",
    "for strain in data.keys():\n",
    "    if strain_target and strain_target not in strain:\n",
    "        continue\n",
    "\n",
    "    for pos_idx, pos_name in enumerate(data[strain].keys()):\n",
    "        if pos_target and pos_target not in pos_name:\n",
    "            continue\n",
    "\n",
    "        # make the plot for each position\n",
    "        fig = make_subplots(rows=3, cols=1)\n",
    "        for axis_idx, axis in enumerate(axes):      \n",
    "            for cell_type in ['seam_cells', 'annotations']:\n",
    "                if \"seam\" not in display_type and cell_type == \"seam_cells\":\n",
    "                    continue\n",
    "                elif \"anno\" not in display_type and cell_type == \"annotations\":\n",
    "                    continue      \n",
    "\n",
    "                for cell_name in data[strain][pos_name][cell_type].keys():\n",
    "                    try:\n",
    "                        timepoints = np.array(data[strain][pos_name][cell_type][cell_name]['timepoints'])\n",
    "                        coordinates = np.array(data[strain][pos_name][cell_type][cell_name]['coordinates'])\n",
    "                    except:\n",
    "                        coordinates = np.array(data[strain][pos_name][cell_type][cell_name])                   \n",
    "                        timepoints = np.arange(coordinates.shape[0])\n",
    "\n",
    "                    show_legend = False\n",
    "                    if axis_idx == 0:\n",
    "                        show_legend = True\n",
    "                        \n",
    "                    fig.append_trace(go.Scatter(\n",
    "                        x=timepoints,\n",
    "                        y=coordinates[:, axis_idx],\n",
    "                        mode='lines',\n",
    "                        name=cell_name,\n",
    "                        legendgroup=cell_name,\n",
    "                        showlegend = show_legend\n",
    "                    ), row=axis_idx+1, col=1)\n",
    "\n",
    "            fig.update_xaxes(title_text=\"Timepoints\", row=axis_idx+1, col=1)\n",
    "            fig.update_yaxes(title_text=axis, row=axis_idx+1, col=1)\n",
    "\n",
    "        id_text = \"_{}_{}\".format(strain, pos_name)\n",
    "\n",
    "        fig.update_layout(height=1920, width=1080, \n",
    "                          title_text=\"{}{} Step {} ({})\".format(model_name.upper(), id_text, step, display_type))\n",
    "\n",
    "        # fig.show()\n",
    "        output_filename = \"{}{}_step_{}_1D.html\".format(model_name.upper(), id_text, step)\n",
    "        output_filepath = os.path.join(folderpath, 'visualizations', output_filename)\n",
    "        fig.write_html(output_filepath)\n"
   ]
  },
  {
   "cell_type": "code",
   "execution_count": null,
   "metadata": {},
   "outputs": [],
   "source": []
  }
 ],
 "metadata": {
  "kernelspec": {
   "display_name": "Python 3",
   "language": "python",
   "name": "python3"
  },
  "language_info": {
   "codemirror_mode": {
    "name": "ipython",
    "version": 3
   },
   "file_extension": ".py",
   "mimetype": "text/x-python",
   "name": "python",
   "nbconvert_exporter": "python",
   "pygments_lexer": "ipython3",
   "version": "3.8.3"
  }
 },
 "nbformat": 4,
 "nbformat_minor": 2
}
