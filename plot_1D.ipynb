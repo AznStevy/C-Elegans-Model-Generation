{
 "cells": [
  {
   "cell_type": "code",
   "execution_count": 1,
   "metadata": {
    "code_folding": [
     0
    ]
   },
   "outputs": [],
   "source": [
    "# handle imports\n",
    "import os\n",
    "import json\n",
    "import numpy as np\n",
    "import pandas as pd"
   ]
  },
  {
   "cell_type": "code",
   "execution_count": 2,
   "metadata": {},
   "outputs": [],
   "source": [
    "step = 7\n",
    "display_type = \"annotations\" # seam+annotations\n",
    "model_name = '2020_09_08-OD1599_NU'\n",
    "strain_target = None\n",
    "pos_target = None # strain name substring\n",
    "show_confidence_band = True # show confidence interval, only works on steps 6/7"
   ]
  },
  {
   "cell_type": "code",
   "execution_count": 3,
   "metadata": {
    "code_folding": [
     0
    ]
   },
   "outputs": [],
   "source": [
    "# get data\n",
    "folderpath = os.path.join(os.getcwd(), 'workspace', model_name)\n",
    "if step == 1:\n",
    "    filename = '1_compiled_data'\n",
    "elif step == 2:\n",
    "    filename = '2_compiled_data_no_outliers'\n",
    "elif step == 3:\n",
    "    filename = '3_compiled_data_interpolation'\n",
    "elif step == 5:\n",
    "    filename = '5_compiled_data_warped'\n",
    "elif step == 6:\n",
    "    filename = '6_cell_coord_stats_by_timepoint'\n",
    "elif step == 7:\n",
    "    filename = '7_cell_coord_stats_by_timepoint_smoothed'\n",
    "filepath = os.path.join(folderpath, filename + '.json')\n",
    "with open(filepath) as f:\n",
    "    data = json.load(f)"
   ]
  },
  {
   "cell_type": "code",
   "execution_count": 4,
   "metadata": {
    "code_folding": [
     0
    ]
   },
   "outputs": [],
   "source": [
    "# plot figure\n",
    "from plotly.subplots import make_subplots\n",
    "import plotly.graph_objects as go\n",
    "\n",
    "axes = ['x', 'y', 'z']\n",
    "\n",
    "\n",
    "for strain in data.keys():\n",
    "    if step > 5 and strain != 'mean':\n",
    "        continue\n",
    "        \n",
    "    if strain_target and strain_target not in strain:\n",
    "        continue\n",
    "\n",
    "    for pos_idx, pos_name in enumerate(data[strain].keys()):\n",
    "        if step > 5 and pos_idx != 0:\n",
    "            continue\n",
    "        elif step > 5 and pos_idx == 0:\n",
    "            pos_name = \"combined\"\n",
    "            \n",
    "        if pos_target and pos_target not in pos_name:\n",
    "            continue\n",
    "\n",
    "        # make the plot for each position\n",
    "        fig = make_subplots(rows=3, cols=1)\n",
    "        for axis_idx, axis in enumerate(axes):      \n",
    "            for cell_type in ['seam_cells', 'annotations']:\n",
    "                if \"seam\" not in display_type and cell_type == \"seam_cells\":\n",
    "                    continue\n",
    "                elif \"anno\" not in display_type and cell_type == \"annotations\":\n",
    "                    continue      \n",
    "                \n",
    "                # handle for steps 6/7\n",
    "                try:\n",
    "                    pos_data = data[strain][pos_name][cell_type]\n",
    "                except:\n",
    "                    pos_data = data['mean'][cell_type]\n",
    "\n",
    "                for cell_name in pos_data.keys():\n",
    "                    # handle for steps 6/7\n",
    "                    try:\n",
    "                        timepoints = np.array(pos_data[cell_name]['timepoints'])\n",
    "                        coordinates = np.array(pos_data[cell_name]['coordinates'])\n",
    "                    except:\n",
    "                        coordinates = np.array(pos_data[cell_name])                   \n",
    "                        timepoints = np.arange(coordinates.shape[0])\n",
    "\n",
    "                    show_legend = False\n",
    "                    if axis_idx == 0:\n",
    "                        show_legend = True\n",
    "                        \n",
    "                    fig.append_trace(go.Scatter(\n",
    "                        x=timepoints,\n",
    "                        y=coordinates[:, axis_idx],\n",
    "                        mode='lines',\n",
    "                        name=cell_name,\n",
    "                        legendgroup=cell_name,\n",
    "                        showlegend=show_legend\n",
    "                    ), row=axis_idx+1, col=1)\n",
    "                \n",
    "                    # if we want to include confidence band\n",
    "                    if step > 5 and show_confidence_band: \n",
    "                        lower_bound = np.array(data['ci_95_lower'][cell_type][cell_name])\n",
    "                        upper_bound = np.array(data['ci_95_upper'][cell_type][cell_name])\n",
    "                        fig.append_trace(go.Scatter(\n",
    "                            x=np.concatenate([timepoints, timepoints[::-1]]),\n",
    "                            y=np.concatenate([upper_bound[:, axis_idx], lower_bound[:, axis_idx][::-1]]),\n",
    "                            fill='toself',\n",
    "                            legendgroup=cell_name,\n",
    "                            showlegend=False,\n",
    "                            name=cell_name\n",
    "                        ), row=axis_idx+1, col=1)\n",
    "                                        \n",
    "\n",
    "            fig.update_xaxes(title_text=\"Timepoints\", row=axis_idx+1, col=1)\n",
    "            fig.update_yaxes(title_text=axis, row=axis_idx+1, col=1)\n",
    "\n",
    "        id_text = \"_{}_{}\".format(strain, pos_name)\n",
    "\n",
    "        fig.update_layout(height=1920, width=1080, \n",
    "                          title_text=\"{}{} Step {} ({})\".format(model_name.upper(), id_text, step, display_type))\n",
    "\n",
    "        # fig.show()\n",
    "        output_filename = \"{}{}_step_{}_1D.html\".format(model_name.upper(), id_text, step)\n",
    "        output_filepath = os.path.join(folderpath, 'visualizations', output_filename)\n",
    "        fig.write_html(output_filepath)\n"
   ]
  },
  {
   "cell_type": "code",
   "execution_count": null,
   "metadata": {},
   "outputs": [],
   "source": []
  }
 ],
 "metadata": {
  "kernelspec": {
   "display_name": "Python 3",
   "language": "python",
   "name": "python3"
  },
  "language_info": {
   "codemirror_mode": {
    "name": "ipython",
    "version": 3
   },
   "file_extension": ".py",
   "mimetype": "text/x-python",
   "name": "python",
   "nbconvert_exporter": "python",
   "pygments_lexer": "ipython3",
   "version": "3.8.3"
  }
 },
 "nbformat": 4,
 "nbformat_minor": 2
}
