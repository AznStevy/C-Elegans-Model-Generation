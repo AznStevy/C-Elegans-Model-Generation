{
 "cells": [
  {
   "cell_type": "code",
   "execution_count": 1,
   "metadata": {
    "code_folding": [
     0
    ]
   },
   "outputs": [],
   "source": [
    "# get imports\n",
    "import os\n",
    "import json\n",
    "import numpy as np\n",
    "import pandas as pd\n",
    "import plotly.graph_objects as go"
   ]
  },
  {
   "cell_type": "code",
   "execution_count": 2,
   "metadata": {},
   "outputs": [],
   "source": [
    "# load in data\n",
    "model_name = '2020_08_24-OD1599_NU'"
   ]
  },
  {
   "cell_type": "code",
   "execution_count": 3,
   "metadata": {
    "code_folding": [
     0
    ]
   },
   "outputs": [],
   "source": [
    "# generate csvs as model folder in separate steps\n",
    "folderpath = os.path.join(os.getcwd(), 'workspace', model_name)\n",
    "\n",
    "step_names = [\n",
    "    '1_compiled_data', \n",
    "    '2_compiled_data_no_outliers', \n",
    "    '3_compiled_data_interpolation', \n",
    "    None, \n",
    "    '5_compiled_data_warped',\n",
    "    '6_cell_coordinates_by_timepoint',\n",
    "    '7_cell_coordinates_by_timepoint_smoothed'\n",
    "]\n",
    "\n",
    "csv_output_folder = os.path.join('workspace', model_name, 'step_csvs')\n",
    "for step_idx, step_name in enumerate(step_names):\n",
    "    if not step_name:\n",
    "        continue\n",
    "        \n",
    "    step_output_folder = os.path.join(csv_output_folder, step_name)\n",
    "    \n",
    "    filepath_model_csv = os.path.join(folderpath, step_name + '.json')\n",
    "    with open(filepath_model_csv) as f:\n",
    "        data_model_csv = json.load(f)\n",
    "    \n",
    "    for strain in data_model_csv.keys():\n",
    "        strain_folder = os.path.join(step_output_folder, strain)\n",
    "        \n",
    "        # steps 1-5\n",
    "        if step_idx < 5:\n",
    "            for pos_name in data_model_csv[strain].keys():\n",
    "                pos_folder = os.path.join(strain_folder, pos_name)\n",
    "\n",
    "                if not os.path.exists(pos_folder):\n",
    "                    os.makedirs(pos_folder)\n",
    "\n",
    "                for cell_type in ['seam_cells', 'annotations']:\n",
    "                    cell_coords = data_model_csv[strain][pos_name][cell_type]\n",
    "\n",
    "                    for cell_name_iter in cell_coords.keys():\n",
    "                        filename_csv = cell_name_iter +'.csv'\n",
    "                        filepath_csv = os.path.join(pos_folder, filename_csv)\n",
    "\n",
    "                        coordinates = cell_coords[cell_name_iter]['coordinates']\n",
    "                        timepoints = cell_coords[cell_name_iter]['timepoints']\n",
    "                        new_table = pd.DataFrame(coordinates)\n",
    "                        new_table.columns = ['x', 'y', 'z']\n",
    "                        new_table.insert(0, \"timepoints\", timepoints, True)\n",
    "\n",
    "                        new_table.to_csv(filepath_csv, index=False)\n",
    "        else: # steps 6-7\n",
    "            folder = os.path.join(step_output_folder, 'combined_model_step_{}'.format(step_idx+1))\n",
    "            \n",
    "            if not os.path.exists(folder):\n",
    "                os.makedirs(folder)\n",
    "                    \n",
    "            for cell_type in ['seam_cells', 'annotations']:\n",
    "                cell_coords = data_model_csv[cell_type]\n",
    "\n",
    "                for cell_name_iter in cell_coords.keys():\n",
    "                    filename_csv = cell_name_iter +'.csv'\n",
    "                    filepath_csv = os.path.join(folder, filename_csv)\n",
    "\n",
    "                    coordinates = cell_coords[cell_name_iter]\n",
    "                    timepoints = np.arange(0, len(coordinates))\n",
    "                    new_table = pd.DataFrame(coordinates)\n",
    "                    new_table.columns = ['x', 'y', 'z']\n",
    "                    new_table.insert(0, \"timepoints\", timepoints, True)\n",
    "\n",
    "                    new_table.to_csv(filepath_csv, index=False)"
   ]
  }
 ],
 "metadata": {
  "kernelspec": {
   "display_name": "Python 3",
   "language": "python",
   "name": "python3"
  },
  "language_info": {
   "codemirror_mode": {
    "name": "ipython",
    "version": 3
   },
   "file_extension": ".py",
   "mimetype": "text/x-python",
   "name": "python",
   "nbconvert_exporter": "python",
   "pygments_lexer": "ipython3",
   "version": "3.8.3"
  }
 },
 "nbformat": 4,
 "nbformat_minor": 2
}
